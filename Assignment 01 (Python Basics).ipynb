{
 "cells": [
  {
   "cell_type": "markdown",
   "metadata": {},
   "source": [
    "# Part -1 Python Basics (Variables)"
   ]
  },
  {
   "cell_type": "markdown",
   "metadata": {},
   "source": [
    "1. Print Your Name with your Father name and Date of birth using suitable escape sequence charactor"
   ]
  },
  {
   "cell_type": "code",
   "execution_count": null,
   "metadata": {},
   "outputs": [],
   "source": [
    "print(\"Name: Abubakar\\nFather Name: Habib-ur-Rehman\\nDate Of Birth: 13-Sep-2001\")"
   ]
  },
  {
   "cell_type": "markdown",
   "metadata": {},
   "source": [
    "2. Write your small bio using variables and print it using print function"
   ]
  },
  {
   "cell_type": "code",
   "execution_count": null,
   "metadata": {},
   "outputs": [],
   "source": [
    "print(\"Question No 2\")\n",
    "name = \"Abubakar\"\n",
    "father_name = \"Habib-ur-Rehman\"\n",
    "age = 23\n",
    "current_job = \"Teaching\"\n",
    "education = \"Bachelor Of Computer Engineering\"\n",
    "personal_goal = \"Data Engineer\"\n",
    "\n",
    "bio = f\"My Name is: {name}\\nFather Name is: {father_name}\\nAge: {age}\\nCurrent Job: {current_job}\\nEducation: {education}\\nGoal: {personal_goal}\" \n",
    "\n",
    "print(bio)"
   ]
  },
  {
   "cell_type": "markdown",
   "metadata": {},
   "source": [
    "3. Write a program in which use all the operators we can use in Python"
   ]
  },
  {
   "cell_type": "code",
   "execution_count": null,
   "metadata": {},
   "outputs": [],
   "source": [
    "print(\"\\nQuestion No 3\")\n",
    "a = 10\n",
    "b = 2\n",
    "print(\"a =\", a)\n",
    "print(\"b =\", b)\n",
    "print(\"Arithmetic Operators\")\n",
    "print(\"Addition: a + b =\", a+b)\n",
    "print(\"Subtraction: a - b =\", a-b)\n",
    "print(\"Multiplication: a * b =\", a*b)\n",
    "print(\"Division: a / b =\", a/b)\n",
    "print(\"Floor Division: a // b =\" ,a//b)\n",
    "print(\"Modulus: a % b =\", a%b)\n",
    "print(\"Exponent: a ** b =\", a**b)\n",
    "\n",
    "\n",
    "\n",
    "print(\"\\nComparison Operators\")\n",
    "print(\"Equal: a == b\",a==b)\n",
    "print(\"Not Equal: a != b\",a!=b)\n",
    "print(\"Greater Than: a > b\",a>b)\n",
    "print(\"Less Than: a < b\",a<b)\n",
    "print(\"Greater Than Equals to: a >= b\",a>=b)\n",
    "print(\"Less Than Equal To: a <= b\",a<=b)\n",
    "\n",
    "\n",
    "c = True\n",
    "d = False\n",
    "print(\"\\nLogical Operators\")\n",
    "print(\"AND: c and d\",c and d)\n",
    "print(\"OR: c or d\",c or d)\n",
    "print(\"NOT: not c\", not c)\n",
    "\n",
    "\n",
    "\n",
    "c = 5\n",
    "print(\"\\nAssignment Operators:\")\n",
    "c += 2\n",
    "print(\"c += 2:\", c)\n",
    "c -= 2\n",
    "print(\"c -= 2:\", c)\n",
    "c *= 2\n",
    "print(\"c *= 2:\", c)\n",
    "c /= 2\n",
    "print(\"c /= 2:\", c)\n",
    "c %= 2\n",
    "print(\"c %= 2:\", c)\n",
    "c **= 2\n",
    "print(\"c **= 2:\", c)\n",
    "c //= 2\n",
    "print(\"c //= 2:\", c)"
   ]
  },
  {
   "cell_type": "markdown",
   "metadata": {},
   "source": [
    "4. Completes the following steps of small task:\n",
    "    - Mention Marks of English , Islamiat and Maths out of 100 in 3 different variables\n",
    "    - Mention Variable of Total Marks and assign 300 to it\n",
    "    - Calculate Percentage"
   ]
  },
  {
   "cell_type": "code",
   "execution_count": null,
   "metadata": {},
   "outputs": [],
   "source": [
    "English = 80\n",
    "Islamiat = 90\n",
    "Maths = 70\n",
    "\n",
    "Total = 300\n",
    "\n",
    "obt_marks = English + Islamiat + Maths\n",
    "percentage = (obt_marks / Total) * 100\n",
    "\n",
    "print(\"\\nEnglish Marks::\",English)\n",
    "print(\"Islamiat Marks::\",Islamiat)\n",
    "print(\"Maths Marks::\",Maths)\n",
    "\n",
    "print(\"Total Marks::\",Total)\n",
    "print(\"Obtained Marks Are::\",obt_marks)\n",
    "print(\"Percentage::\",percentage)"
   ]
  },
  {
   "cell_type": "markdown",
   "metadata": {},
   "source": [
    "# Part -2 Python Basics (Conditional Statements)"
   ]
  },
  {
   "cell_type": "markdown",
   "metadata": {},
   "source": [
    "1) A company decided to give bonus of 5% to employee if his/her year of service is more than 5 years.\n",
    "Ask user for their salary and year of service and print the net bonus amount."
   ]
  },
  {
   "cell_type": "code",
   "execution_count": 6,
   "metadata": {},
   "outputs": [],
   "source": [
    "salary = int(input(\"Enter Your Salary::\"))\n",
    "year_of_service = int(input(\"Enter Your Year Of Service::\"))\n",
    "\n",
    "if year_of_service > 5:\n",
    "    bonus = salary * 0.05\n",
    "    print(\"Your Bonus Is::\",bonus)\n",
    "    \n",
    "else:\n",
    "    print(\"Sorry You Are Not Eligible For Bonus\")\n",
    "\n",
    "print(\"Now Total Salary with bonus Is::\", bonus + salary)"
   ]
  },
  {
   "cell_type": "markdown",
   "metadata": {},
   "source": [
    "\n",
    "2) Write a program to check whether a person is eligible for voting or not. (accept age from user) if age is greater than 17 eligible otherwise not eligible"
   ]
  },
  {
   "cell_type": "code",
   "execution_count": 7,
   "metadata": {},
   "outputs": [],
   "source": [
    "print(\"Voting System Program\")\n",
    "age = int(input(\"Enter Your Age::\"))\n",
    "if age > 17:\n",
    "    print(\"You Are Eligible For Voting\")\n",
    "else:\n",
    "    print(\"You are not eligible for voting\")"
   ]
  },
  {
   "cell_type": "markdown",
   "metadata": {},
   "source": [
    "\n",
    "3) Write a program to check whether a number entered by user is even or odd."
   ]
  },
  {
   "cell_type": "code",
   "execution_count": 8,
   "metadata": {},
   "outputs": [],
   "source": [
    "print(\"\\nEven Odd Program\")\n",
    "number = int(input(\"Enter Any Number::\"))\n",
    "if number % 2 == 0:\n",
    "    print(\"Number is Even\")\n",
    "else:\n",
    "    print(\"number is Odd\")\n"
   ]
  },
  {
   "cell_type": "markdown",
   "metadata": {},
   "source": [
    "4) Write a program to check whether a number is divisible by 7 or not.\n",
    "Show Answer"
   ]
  },
  {
   "cell_type": "code",
   "execution_count": 9,
   "metadata": {},
   "outputs": [],
   "source": [
    "print(\"\\nDivisible By 7 Program\")\n",
    "number = int(input(\"Enter Any Number::\"))\n",
    "\n",
    "if number % 7 == 0:\n",
    "    print(f\"Number {number} is Divisible By 7\")\n",
    "else:\n",
    "    print(f\"Number {number} is not Divisible By 7\")"
   ]
  },
  {
   "cell_type": "markdown",
   "metadata": {},
   "source": [
    "5) Write a program to display \n",
    "\"Hello\" if a number entered by user is a multiple of five , otherwise print \"Bye\"."
   ]
  },
  {
   "cell_type": "code",
   "execution_count": 11,
   "metadata": {},
   "outputs": [],
   "source": [
    "num = int(input(\"\\nEnter Number::\"))\n",
    "if num % 5 == 0:\n",
    "    print(\"Hello\")\n",
    "else:\n",
    "    print(\"Bye\")"
   ]
  },
  {
   "cell_type": "markdown",
   "metadata": {},
   "source": [
    "7) Write a program to display the last digit of a number.\n"
   ]
  },
  {
   "cell_type": "code",
   "execution_count": 12,
   "metadata": {},
   "outputs": [],
   "source": [
    "num = int(input(\"Enter a number::\"))\n",
    "\n",
    "digit = num % 10\n",
    "\n",
    "print(\"The last digit of the number is:\", digit)"
   ]
  },
  {
   "cell_type": "markdown",
   "metadata": {},
   "source": [
    "9) Take values of length and breadth of a rectangle from user and print if it is square or rectangle."
   ]
  },
  {
   "cell_type": "code",
   "execution_count": 14,
   "metadata": {},
   "outputs": [],
   "source": [
    "length = int(input(\"\\nEnter Length of Rectangle:: \"))\n",
    "breath = int(input(\"Enter Breath of Rectangle:: \"))\n",
    "\n",
    "if length == breath:\n",
    "    print(\"It is Square\")\n",
    "else:\n",
    "    print(\"It is Rectangle\")    "
   ]
  },
  {
   "cell_type": "markdown",
   "metadata": {},
   "source": [
    "10) Take two int values from user and print greatest among them."
   ]
  },
  {
   "cell_type": "code",
   "execution_count": 15,
   "metadata": {},
   "outputs": [],
   "source": [
    "num1 = int(input(\"Enter number 1::\"))\n",
    "num2 = int(input(\"Enter number 2::\"))\n",
    "\n",
    "if num1 > num2:\n",
    "    print(f\"Number {num1} is greater than {num2}::Hence number 1 is greater\")\n",
    "else:\n",
    "    print(f\"Number {num2} is greater than {num1}::Hence Number 2 is greater\")"
   ]
  },
  {
   "cell_type": "markdown",
   "metadata": {},
   "source": [
    "11) A shop will give discount of 10% if the cost of purchased quantity is more than 1000.\n",
    "Ask user for quantity\n",
    "Suppose, one unit will cost 100.\n",
    "Judge and print total cost for user."
   ]
  },
  {
   "cell_type": "code",
   "execution_count": 16,
   "metadata": {},
   "outputs": [],
   "source": [
    "cost = 100\n",
    "\n",
    "quantity = int(input(\"Enter the quantity: \"))\n",
    "\n",
    "total_cost = quantity * cost\n",
    "\n",
    "if total_cost > 1000:\n",
    "    discount = total_cost * 0.1\n",
    "    total_cost -= discount\n",
    "print(\"The total cost is:\", total_cost)"
   ]
  },
  {
   "cell_type": "markdown",
   "metadata": {},
   "source": [
    "12) A school has following rules for grading system:\n",
    "\n",
    "a. Below 25 - F\n",
    "\n",
    "b. 25 to 45 - E\n",
    "\n",
    "c. 45 to 50 - D\n",
    "\n",
    "d. 50 to 60 - C\n",
    "\n",
    "e. 60 to 80 - B\n",
    "\n",
    "f. Above 80 - A\n",
    "\n",
    "Ask user to enter marks and print the corresponding grade."
   ]
  },
  {
   "cell_type": "code",
   "execution_count": 2,
   "metadata": {},
   "outputs": [],
   "source": [
    "print(\"\\nGrading System Program\")\n",
    "marks = int(input(\"Enter your marks:: \"))\n",
    "if marks >= 90:\n",
    "    print(\"Grade is A\")\n",
    "elif 60 <= marks < 80:\n",
    "    print(\"Grade is B\")\n",
    "elif 50 <= marks < 60:\n",
    "    print(\"Grade is C\")\n",
    "elif 45 <= marks < 50:\n",
    "    print(\"Grade is D\")\n",
    "elif 25 <= marks < 45:\n",
    "    print(\"Grade is E\")\n",
    "elif marks > 25:\n",
    "    print(\"Grade is F\")\n",
    "    "
   ]
  },
  {
   "cell_type": "markdown",
   "metadata": {},
   "source": [
    "14)A student will not be allowed to sit in exam if his/her attendence is less than 75%.\n",
    "\n",
    "Take following input from user\n",
    "\n",
    "- Number of classes held\n",
    "\n",
    "- Number of classes attended.\n",
    "\n",
    "And print\n",
    "\n",
    "- percentage of class attended\n",
    "\n",
    "- Is student is allowed to sit in exam or not.\n"
   ]
  },
  {
   "cell_type": "code",
   "execution_count": 19,
   "metadata": {},
   "outputs": [],
   "source": [
    "classes = int(input(\"Enter no of classes held::\"))\n",
    "attended = int(input(\"Enter no of classes attended::\"))\n",
    "\n",
    "percentage = attended/classes*100\n",
    "print(f\"Percentage of classes attended is {percentage}\")\n",
    "if percentage >= 75:\n",
    "    print(\"Student is allowed to sit in exam\")\n",
    "else:\n",
    "    print(\"Student is not allowed to sit in exam\")\n"
   ]
  },
  {
   "cell_type": "markdown",
   "metadata": {},
   "source": [
    "15) Modify the above question to allow student to sit if he/she has medical cause. Ask user if he/she has medical cause or not ( 'Y' or 'N' ) and print accordingly."
   ]
  },
  {
   "cell_type": "code",
   "execution_count": 20,
   "metadata": {},
   "outputs": [],
   "source": [
    "cla = int(input(\"Enter no of classes held::\"))\n",
    "att = int(input(\"Enter no of classes attended::\"))\n",
    "\n",
    "percentage = att/cla*100\n",
    "print(f\"Percentage of classes attended is {percentage}\")\n",
    "\n",
    "medical = input(\"Do you have a medical cause? (y/n) \")\n",
    "\n",
    "\n",
    "\n",
    "if percentage >= 75 or medical.lower()==\"y\":\n",
    "    print(\"Student is allowed to sit in exam\")\n",
    "else:\n",
    "    print(\"Student is not allowed to sit in exam\")"
   ]
  },
  {
   "cell_type": "markdown",
   "metadata": {},
   "source": [
    "16) Write a program to check if a year is leap year or not.\n",
    "\n",
    "If a year is divisible by 4 then it is leap year but if the year is century year like 2000, 1900, 2100 then it must be divisible by 400."
   ]
  },
  {
   "cell_type": "code",
   "execution_count": 21,
   "metadata": {},
   "outputs": [],
   "source": [
    "print(\"Program Check Year is leap-year or not\")\n",
    "\n",
    "year = int(input(\"Enter Year No: (to check year is leap-year or not)::\"))\n",
    "if year % 4 == 0:\n",
    "    if year % 100 == 0:\n",
    "        if year % 400 == 0:\n",
    "            print(\"Year is leap year\")          \n",
    "        else:\n",
    "             print(\"Year is not leap year\") \n",
    "    else:\n",
    "         print(\"Year is not leap year\") \n",
    "else:\n",
    "     print(\"Year is not leap year\") "
   ]
  },
  {
   "cell_type": "markdown",
   "metadata": {},
   "source": [
    "17) Ask user to enter age, gender ( M or F ), marital status ( Y or N ) and then using following rules print their place of service.\n",
    "\n",
    "if employee is female, then she will work only in urban areas.\n",
    "\n",
    "if employee is a male and age is in between 20 to 40 then he may work in anywhere\n",
    "\n",
    "if employee is male and age is in between 40 t0 60 then he will work in urban areas only.\n",
    "\n",
    "And any other input of age should print \"ERROR\""
   ]
  },
  {
   "cell_type": "code",
   "execution_count": 22,
   "metadata": {},
   "outputs": [],
   "source": [
    "age = int(input(\"Enter your age::\"))\n",
    "gender = input(\"Enter you gender (M / F)::\").upper()\n",
    "status = input(\"Enter your marital status married? (Y/N)::\").upper()\n",
    "\n",
    "if gender == \"F\":\n",
    "     print(\"You can only work in urban areas\")\n",
    "elif gender == \"M\":\n",
    "    if 20 <= age <=40:\n",
    "        print(\"You can work in anywhere\")\n",
    "    elif  40 <= age <=60:\n",
    "        print(\"You can work only in urban areas\")\n",
    "    else:\n",
    "        print(\"ERROR\")  "
   ]
  },
  {
   "cell_type": "markdown",
   "metadata": {},
   "source": [
    "6) Write a program to calculate the electricity bill (accept number of unit from user) according to the following criteria :\n",
    "     Unit                                                     Price  \n",
    "uptp 100 units                                             no charge\n",
    "Next 200 units                                              Rs 5 per unit\n",
    "After 200 units                                             Rs 10 per unit\n",
    "(For example if input unit is 350 than total bill amount is Rs.3500\n",
    "(For example if input unit is 97 than total bill amount is Rs.0\n",
    "(For example if input unit is 150 than total bill amount is Rs.750"
   ]
  },
  {
   "cell_type": "code",
   "execution_count": null,
   "metadata": {},
   "outputs": [],
   "source": [
    "units = int(input(\"Enter the number of units: \"))\n",
    "\n",
    "if units <= 100:\n",
    "    bill_amount = 0\n",
    "elif units <= 300:\n",
    "    bill_amount = (units - 100) * 5\n",
    "else:\n",
    "    bill_amount = 1000 + (units - 300) * 10\n",
    "print(\"The total bill amount is Rs.\", bill_amount)"
   ]
  },
  {
   "cell_type": "markdown",
   "metadata": {},
   "source": [
    "13) Take input of age of 3 people by user and determine oldest and youngest among them."
   ]
  },
  {
   "cell_type": "code",
   "execution_count": 18,
   "metadata": {},
   "outputs": [],
   "source": [
    "age1 = int(input(\"Enter age of person 1::\"))\n",
    "age2 = int(input(\"Enter age of person 2::\"))\n",
    "age3 = int(input(\"Enter age of person 3::\"))\n",
    "if age1 > age2 and age1 > age3:\n",
    "   oldest = age1\n",
    "elif age2 > age1 and age2 > age3:\n",
    "    oldest = age2\n",
    "elif age3 > age1 and age3 > age2:\n",
    "   oldest = age3\n",
    "   \n",
    "\n",
    "if age3 <= age1 and age3 < age2:\n",
    "    youngest = age3\n",
    "elif age1 <= age2 and age1 < age3:\n",
    "    youngest = age1\n",
    "elif age2 <= age1 and age2 < age3:\n",
    "    youngest = age2\n",
    "\n",
    "print(f\"Oldest Person is {oldest} years old\")\n",
    "print(f\"Youngest Person is {youngest} years old\")\n"
   ]
  }
 ],
 "metadata": {
  "kernelspec": {
   "display_name": "Python 3 (ipykernel)",
   "language": "python",
   "name": "python3"
  },
  "language_info": {
   "codemirror_mode": {
    "name": "ipython",
    "version": 3
   },
   "file_extension": ".py",
   "mimetype": "text/x-python",
   "name": "python",
   "nbconvert_exporter": "python",
   "pygments_lexer": "ipython3",
   "version": "3.11.5"
  }
 },
 "nbformat": 4,
 "nbformat_minor": 2
}
